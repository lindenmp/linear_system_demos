{
 "cells": [
  {
   "cell_type": "code",
   "execution_count": 1,
   "metadata": {},
   "outputs": [],
   "source": [
    "import os\n",
    "import numpy as np\n",
    "\n",
    "import scipy as sp\n",
    "from scipy import stats\n",
    "from numpy.matlib import repmat \n",
    "from scipy.linalg import svd, schur\n",
    "\n",
    "import seaborn as sns\n",
    "import matplotlib.pyplot as plt\n",
    "plt.rcParams['svg.fonttype'] = 'none'\n",
    "from matplotlib.ticker import FormatStrFormatter"
   ]
  },
  {
   "cell_type": "markdown",
   "metadata": {},
   "source": [
    "Functions"
   ]
  },
  {
   "cell_type": "code",
   "execution_count": 2,
   "metadata": {},
   "outputs": [],
   "source": [
    "def node_strength(A):\n",
    "    s = np.sum(A, axis = 0)\n",
    "\n",
    "    return s\n",
    "\n",
    "def node_degree(A):\n",
    "    B = A > 0\n",
    "    k = np.sum(B, axis = 0)\n",
    "    \n",
    "    return k\n",
    "\n",
    "def ave_control(A, c = 0.99):\n",
    "    # Bassett Lab, University of Pennsylvania, 2016.\n",
    "    # Reference: Gu, Pasqualetti, Cieslak, Telesford, Yu, Kahn, Medaglia,\n",
    "    #            Vettel, Miller, Grafton & Bassett, Nature Communications\n",
    "    #            6:8414, 2015.\n",
    "\n",
    "    if c is not None:\n",
    "        u, s, vt = svd(A) # singluar value decomposition\n",
    "        A = (A/s[0])*c # Matrix normalization\n",
    "    \n",
    "    T, U = schur(A,'real') # Schur stability\n",
    "    midMat = np.multiply(U,U).transpose()\n",
    "    v = np.matrix(np.diag(T)).transpose()\n",
    "    N = A.shape[0]\n",
    "    P = np.diag(1 - np.matmul(v,v.transpose()))\n",
    "    P = repmat(P.reshape([N,1]), 1, N)\n",
    "    ac = sum(np.divide(midMat,P))\n",
    "    \n",
    "    return ac"
   ]
  },
  {
   "cell_type": "code",
   "execution_count": 3,
   "metadata": {},
   "outputs": [],
   "source": [
    "# output directory\n",
    "figdir = '/Users/lindenmp/Dropbox/Work/ResProjects/neurodev_cs_predictive/analysis_int/t1Exclude/schaefer_200_streamlineCount_consist/figs'\n",
    "os.chdir(figdir)"
   ]
  },
  {
   "cell_type": "code",
   "execution_count": 4,
   "metadata": {},
   "outputs": [],
   "source": [
    "# set seaborn figure style\n",
    "sns.set(style='white', context = 'talk', font_scale = 1)"
   ]
  },
  {
   "cell_type": "markdown",
   "metadata": {},
   "source": [
    "### Generate toy network"
   ]
  },
  {
   "cell_type": "code",
   "execution_count": 5,
   "metadata": {},
   "outputs": [],
   "source": [
    "num_nodes = 5\n",
    "np.random.seed(5)\n",
    "\n",
    "A = np.random.randint(0, 50, size = [num_nodes,num_nodes])\n",
    "A = A + A.transpose()\n",
    "A[np.eye(num_nodes) == 1] = 0"
   ]
  },
  {
   "cell_type": "code",
   "execution_count": 6,
   "metadata": {},
   "outputs": [
    {
     "data": {
      "text/plain": [
       "<matplotlib.axes._subplots.AxesSubplot at 0x127b70910>"
      ]
     },
     "execution_count": 6,
     "metadata": {},
     "output_type": "execute_result"
    },
    {
     "data": {
      "image/png": "[encoded data removed]",
      "text/plain": [
       "<Figure size 540x360 with 2 Axes>"
      ]
     },
     "metadata": {},
     "output_type": "display_data"
    }
   ],
   "source": [
    "f, ax = plt.subplots()\n",
    "f.set_figwidth(7.5)\n",
    "f.set_figheight(5)\n",
    "sns.heatmap(A, center = 0, ax = ax)"
   ]
  },
  {
   "cell_type": "markdown",
   "metadata": {},
   "source": [
    "### Calculate strength, degree, and average control on toy network"
   ]
  },
  {
   "cell_type": "code",
   "execution_count": 7,
   "metadata": {},
   "outputs": [
    {
     "data": {
      "text/plain": [
       "231"
      ]
     },
     "execution_count": 7,
     "metadata": {},
     "output_type": "execute_result"
    }
   ],
   "source": [
    "node_strength(A)[0]"
   ]
  },
  {
   "cell_type": "code",
   "execution_count": 8,
   "metadata": {},
   "outputs": [
    {
     "data": {
      "text/plain": [
       "4"
      ]
     },
     "execution_count": 8,
     "metadata": {},
     "output_type": "execute_result"
    }
   ],
   "source": [
    "node_degree(A)[0]"
   ]
  },
  {
   "cell_type": "code",
   "execution_count": 9,
   "metadata": {},
   "outputs": [
    {
     "data": {
      "text/plain": [
       "12.416327267034728"
      ]
     },
     "execution_count": 9,
     "metadata": {},
     "output_type": "execute_result"
    }
   ],
   "source": [
    "ave_control(A)[0]"
   ]
  },
  {
   "cell_type": "markdown",
   "metadata": {},
   "source": [
    "### Run simple simulation of the linear system to illustrate the impulse response"
   ]
  },
  {
   "cell_type": "code",
   "execution_count": 23,
   "metadata": {},
   "outputs": [
    {
     "name": "stdout",
     "output_type": "stream",
     "text": [
      "12.416327267034728\n"
     ]
    }
   ],
   "source": [
    "# Normalize A matrix and plot\n",
    "c = 0.99 # designate scaling factor\n",
    "u, s, vt = svd(A) # SVD\n",
    "A_norm = (A/s[0])*c # Matrix normalization\n",
    "\n",
    "print(ave_control(A_norm, c = None)[0])"
   ]
  },
  {
   "cell_type": "code",
   "execution_count": 24,
   "metadata": {},
   "outputs": [
    {
     "data": {
      "text/plain": [
       "<matplotlib.axes._subplots.AxesSubplot at 0x12ac6a0d0>"
      ]
     },
     "execution_count": 24,
     "metadata": {},
     "output_type": "execute_result"
    },
    {
     "data": {
      "image/png": "[encoded data removed]",
      "text/plain": [
       "<Figure size 540x360 with 2 Axes>"
      ]
     },
     "metadata": {},
     "output_type": "display_data"
    }
   ],
   "source": [
    "f, ax = plt.subplots()\n",
    "f.set_figwidth(7.5)\n",
    "f.set_figheight(5)\n",
    "sns.heatmap(A_norm, center = 0, ax = ax)"
   ]
  },
  {
   "cell_type": "code",
   "execution_count": 25,
   "metadata": {},
   "outputs": [
    {
     "data": {
      "image/png": "[encoded data removed]",
      "text/plain": [
       "<Figure size 540x360 with 2 Axes>"
      ]
     },
     "metadata": {},
     "output_type": "display_data"
    }
   ],
   "source": [
    "# Simulate linear system\n",
    "num_steps = 8\n",
    "x = np.zeros((num_nodes,num_steps))\n",
    "x[0,0] = 1 # set region 0 to be 'on' at T 0\n",
    "for t in np.arange(1,num_steps): # run simulation of linear system\n",
    "    x[:,t] = np.dot(A_norm,x[:,t-1])\n",
    "\n",
    "f, ax = plt.subplots()\n",
    "f.set_figwidth(7.5)\n",
    "f.set_figheight(5)\n",
    "sns.heatmap(x, ax = ax, cmap = 'YlGnBu_r', cbar_kws={'label': 'Activity'})\n",
    "ax.set_xlabel('T')\n",
    "ax.set_ylabel('Node')\n",
    "f.savefig('full_toy.svg', dpi = 300, bbox_inches = 'tight')"
   ]
  },
  {
   "cell_type": "markdown",
   "metadata": {},
   "source": [
    "### Lesion A matrix and re do simulation"
   ]
  },
  {
   "cell_type": "code",
   "execution_count": 26,
   "metadata": {},
   "outputs": [],
   "source": [
    "A_lesioned = A_norm.copy()\n",
    "A_lesioned[2,1] = 0\n",
    "A_lesioned[1,2] = 0\n",
    "A_lesioned[2,3] = 0\n",
    "A_lesioned[3,2] = 0\n",
    "A_lesioned[3,4] = 0\n",
    "A_lesioned[4,3] = 0"
   ]
  },
  {
   "cell_type": "code",
   "execution_count": 27,
   "metadata": {},
   "outputs": [
    {
     "data": {
      "text/plain": [
       "1.6475744740054687"
      ]
     },
     "execution_count": 27,
     "metadata": {},
     "output_type": "execute_result"
    }
   ],
   "source": [
    "ave_control(A_lesioned, c = None)[0]"
   ]
  },
  {
   "cell_type": "code",
   "execution_count": 28,
   "metadata": {},
   "outputs": [
    {
     "data": {
      "text/plain": [
       "<matplotlib.axes._subplots.AxesSubplot at 0x12acf3710>"
      ]
     },
     "execution_count": 28,
     "metadata": {},
     "output_type": "execute_result"
    },
    {
     "data": {
      "image/png": "[encoded data removed]",
      "text/plain": [
       "<Figure size 540x360 with 2 Axes>"
      ]
     },
     "metadata": {},
     "output_type": "display_data"
    }
   ],
   "source": [
    "f, ax = plt.subplots()\n",
    "f.set_figwidth(7.5)\n",
    "f.set_figheight(5)\n",
    "sns.heatmap(A_lesioned, center = 0, ax = ax)"
   ]
  },
  {
   "cell_type": "code",
   "execution_count": 29,
   "metadata": {},
   "outputs": [
    {
     "data": {
      "image/png": "[encoded data removed]",
      "text/plain": [
       "<Figure size 540x360 with 2 Axes>"
      ]
     },
     "metadata": {},
     "output_type": "display_data"
    }
   ],
   "source": [
    "# Simulate linear system\n",
    "x = np.zeros((num_nodes,num_steps))\n",
    "x[0,0] = 1 # set region 0 to be 'on' at T 0\n",
    "for t in np.arange(1,num_steps): # run simulation of linear system\n",
    "    x[:,t] = np.dot(A_lesioned,x[:,t-1])\n",
    "\n",
    "f, ax = plt.subplots()\n",
    "f.set_figwidth(7.5)\n",
    "f.set_figheight(5)\n",
    "sns.heatmap(x, ax = ax, cmap = 'YlGnBu_r', cbar_kws={'label': 'Activity'})\n",
    "ax.set_xlabel('T')\n",
    "ax.set_ylabel('Node')\n",
    "f.savefig('lesioned_toy.svg', dpi = 300, bbox_inches = 'tight')"
   ]
  },
  {
   "cell_type": "markdown",
   "metadata": {},
   "source": [
    "# Manipulating C"
   ]
  },
  {
   "cell_type": "markdown",
   "metadata": {},
   "source": [
    "The normalization constant (c) determines the value of the largest eigenvalue in the system. By convention we set to 0.99 so that it, and all subsequent modes of the system, decay over time. By decreasing c we force all the system's modes to decay more quickly and thus shorten the life of impulse response. "
   ]
  },
  {
   "cell_type": "code",
   "execution_count": 31,
   "metadata": {},
   "outputs": [
    {
     "data": {
      "image/png": "[encoded data removed]",
      "text/plain": [
       "<Figure size 1080x180 with 8 Axes>"
      ]
     },
     "metadata": {},
     "output_type": "display_data"
    }
   ],
   "source": [
    "sns.set(style='white', context = 'talk', font_scale = 0.75)\n",
    "\n",
    "f, ax = plt.subplots(1,4)\n",
    "f.set_figwidth(15)\n",
    "f.set_figheight(2.5)\n",
    "\n",
    "u, s, vt = svd(A) # SVD\n",
    "\n",
    "for i, c in enumerate([0.99, 0.75, 0.5, 0.25]): # note, 0.99 is the default param used in all of above\n",
    "    A_norm = (A/s[0])*c # Matrix normalization\n",
    "\n",
    "    x = np.zeros((num_nodes,num_steps))\n",
    "    x[0,0] = 1 # set region 0 to be 'on' at T 0\n",
    "    for t in np.arange(1,num_steps): # run simulation of linear system\n",
    "        x[:,t] = np.dot(A_norm,x[:,t-1])\n",
    "\n",
    "    sns.heatmap(x, ax = ax[i], cmap = 'YlGnBu_r', cbar_kws={'label': 'Activity'})\n",
    "    ax[i].set_title('c: '+str(c))\n",
    "    ax[i].set_xlabel('T')\n",
    "    ax[i].set_ylabel('Node')\n",
    "    ax[i].set_xticklabels('')\n",
    "\n",
    "plt.subplots_adjust(wspace=0.5)\n",
    "f.savefig('full_toy_overc.png', dpi = 300, bbox_inches = 'tight')"
   ]
  }
 ],
 "metadata": {
  "kernelspec": {
   "display_name": "Python 3",
   "language": "python",
   "name": "python3"
  },
  "language_info": {
   "codemirror_mode": {
    "name": "ipython",
    "version": 3
   },
   "file_extension": ".py",
   "mimetype": "text/x-python",
   "name": "python",
   "nbconvert_exporter": "python",
   "pygments_lexer": "ipython3",
   "version": "3.7.7"
  }
 },
 "nbformat": 4,
 "nbformat_minor": 4
}
