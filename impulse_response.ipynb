{
 "cells": [
  {
   "cell_type": "code",
   "execution_count": 1,
   "metadata": {},
   "outputs": [],
   "source": [
    "import os\n",
    "import numpy as np\n",
    "\n",
    "import scipy as sp\n",
    "from scipy import stats\n",
    "from numpy.matlib import repmat \n",
    "from scipy.linalg import svd, schur\n",
    "\n",
    "import seaborn as sns\n",
    "import matplotlib.pyplot as plt\n",
    "plt.rcParams['svg.fonttype'] = 'none'\n",
    "from matplotlib.ticker import FormatStrFormatter"
   ]
  },
  {
   "cell_type": "markdown",
   "metadata": {},
   "source": [
    "Functions"
   ]
  },
  {
   "cell_type": "code",
   "execution_count": 2,
   "metadata": {},
   "outputs": [],
   "source": [
    "def node_strength(A):\n",
    "    s = np.sum(A, axis = 0)\n",
    "\n",
    "    return s\n",
    "\n",
    "def node_degree(A):\n",
    "    B = A > 0\n",
    "    k = np.sum(B, axis = 0)\n",
    "    \n",
    "    return k\n",
    "\n",
    "# def ave_control(A, c = 0.99):\n",
    "#     # Bassett Lab, University of Pennsylvania, 2016.\n",
    "#     # Reference: Gu, Pasqualetti, Cieslak, Telesford, Yu, Kahn, Medaglia,\n",
    "#     #            Vettel, Miller, Grafton & Bassett, Nature Communications\n",
    "#     #            6:8414, 2015.\n",
    "\n",
    "#     if c is not None:\n",
    "#         u, s, vt = svd(A) # singluar value decomposition\n",
    "#         A = (A/s[0])*c # Matrix normalization\n",
    "    \n",
    "#     T, U = schur(A,'real') # Schur stability\n",
    "#     midMat = np.multiply(U,U).transpose()\n",
    "#     v = np.matrix(np.diag(T)).transpose()\n",
    "#     N = A.shape[0]\n",
    "#     P = np.diag(1 - np.matmul(v,v.transpose()))\n",
    "#     P = repmat(P.reshape([N,1]), 1, N)\n",
    "#     ac = sum(np.divide(midMat,P))\n",
    "    \n",
    "#     return ac\n",
    "\n",
    "def ave_control(A, c = 1):\n",
    "    # Bassett Lab, University of Pennsylvania, 2016.\n",
    "    # Reference: Gu, Pasqualetti, Cieslak, Telesford, Yu, Kahn, Medaglia,\n",
    "    #            Vettel, Miller, Grafton & Bassett, Nature Communications\n",
    "    #            6:8414, 2015.\n",
    "\n",
    "    if c is not None:\n",
    "        u, s, vt = svd(A) # singluar value decomposition\n",
    "        A = A/(c + s[0]) # Matrix normalization \n",
    "\n",
    "    T, U = schur(A,'real') # Schur stability\n",
    "    midMat = np.multiply(U,U).transpose()\n",
    "    v = np.matrix(np.diag(T)).transpose()\n",
    "    N = A.shape[0]\n",
    "    P = np.diag(1 - np.matmul(v,v.transpose()))\n",
    "    P = repmat(P.reshape([N,1]), 1, N)\n",
    "    ac = sum(np.divide(midMat,P))\n",
    "    \n",
    "    return ac"
   ]
  },
  {
   "cell_type": "code",
   "execution_count": 3,
   "metadata": {},
   "outputs": [],
   "source": [
    "# output directory\n",
    "figdir = '/Users/lindenmp/Dropbox/Work/ResProjects/neurodev_cs_predictive/analysis/t1Exclude/schaefer_200_streamlineCount/figs'\n",
    "os.chdir(figdir)"
   ]
  },
  {
   "cell_type": "code",
   "execution_count": 4,
   "metadata": {},
   "outputs": [],
   "source": [
    "# set seaborn figure style\n",
    "sns.set(style='white', context = 'talk', font_scale = 1)"
   ]
  },
  {
   "cell_type": "markdown",
   "metadata": {},
   "source": [
    "### Generate toy network"
   ]
  },
  {
   "cell_type": "code",
   "execution_count": 5,
   "metadata": {},
   "outputs": [
    {
     "data": {
      "text/plain": [
       "array([[ 0, 23, 95, 53, 60],\n",
       "       [23,  0, 66, 88, 40],\n",
       "       [95, 66,  0, 46, 23],\n",
       "       [53, 88, 46,  0, 28],\n",
       "       [60, 40, 23, 28,  0]])"
      ]
     },
     "execution_count": 5,
     "metadata": {},
     "output_type": "execute_result"
    }
   ],
   "source": [
    "num_nodes = 5\n",
    "np.random.seed(5)\n",
    "\n",
    "A = np.random.randint(0, 50, size = [num_nodes,num_nodes])\n",
    "A = A + A.transpose()\n",
    "A[np.eye(num_nodes) == 1] = 0\n",
    "\n",
    "A"
   ]
  },
  {
   "cell_type": "code",
   "execution_count": 6,
   "metadata": {},
   "outputs": [
    {
     "data": {
      "text/plain": [
       "<matplotlib.axes._subplots.AxesSubplot at 0x11db622d0>"
      ]
     },
     "execution_count": 6,
     "metadata": {},
     "output_type": "execute_result"
    },
    {
     "data": {
      "image/png": "[encoded data removed]",
      "text/plain": [
       "<Figure size 540x360 with 2 Axes>"
      ]
     },
     "metadata": {},
     "output_type": "display_data"
    }
   ],
   "source": [
    "f, ax = plt.subplots()\n",
    "f.set_figwidth(7.5)\n",
    "f.set_figheight(5)\n",
    "sns.heatmap(A, center = 0, ax = ax)"
   ]
  },
  {
   "cell_type": "markdown",
   "metadata": {},
   "source": [
    "### Calculate strength, degree, and average control on toy network"
   ]
  },
  {
   "cell_type": "code",
   "execution_count": 7,
   "metadata": {},
   "outputs": [
    {
     "data": {
      "text/plain": [
       "231"
      ]
     },
     "execution_count": 7,
     "metadata": {},
     "output_type": "execute_result"
    }
   ],
   "source": [
    "node_strength(A)[0]"
   ]
  },
  {
   "cell_type": "code",
   "execution_count": 8,
   "metadata": {},
   "outputs": [
    {
     "data": {
      "text/plain": [
       "4"
      ]
     },
     "execution_count": 8,
     "metadata": {},
     "output_type": "execute_result"
    }
   ],
   "source": [
    "node_degree(A)[0]"
   ]
  },
  {
   "cell_type": "code",
   "execution_count": 9,
   "metadata": {},
   "outputs": [
    {
     "data": {
      "text/plain": [
       "25.36871669281128"
      ]
     },
     "execution_count": 9,
     "metadata": {},
     "output_type": "execute_result"
    }
   ],
   "source": [
    "ave_control(A)[0]"
   ]
  },
  {
   "cell_type": "markdown",
   "metadata": {},
   "source": [
    "### Run simple simulation of the linear system to illustrate the impulse response"
   ]
  },
  {
   "cell_type": "code",
   "execution_count": 10,
   "metadata": {},
   "outputs": [
    {
     "name": "stdout",
     "output_type": "stream",
     "text": [
      "[[0.         0.10771374 0.44490456 0.24820991 0.28099235]\n",
      " [0.10771374 0.         0.30909159 0.41212212 0.18732823]\n",
      " [0.44490456 0.30909159 0.         0.21542747 0.10771374]\n",
      " [0.24820991 0.41212212 0.21542747 0.         0.13112976]\n",
      " [0.28099235 0.18732823 0.10771374 0.13112976 0.        ]]\n",
      "25.36871669281128\n"
     ]
    }
   ],
   "source": [
    "# Normalize A matrix and plot\n",
    "c = 1 # designate scaling factor\n",
    "u, s, vt = svd(A) # SVD\n",
    "# A_norm = (A/s[0])*c # Matrix normalization\n",
    "A_norm = A/(c + s[0]) # Matrix normalization \n",
    "\n",
    "print(A_norm)\n",
    "print(ave_control(A_norm, c = None)[0])"
   ]
  },
  {
   "cell_type": "code",
   "execution_count": 11,
   "metadata": {},
   "outputs": [
    {
     "data": {
      "text/plain": [
       "<matplotlib.axes._subplots.AxesSubplot at 0x11fc7d6d0>"
      ]
     },
     "execution_count": 11,
     "metadata": {},
     "output_type": "execute_result"
    },
    {
     "data": {
      "image/png": "[encoded data removed]",
      "text/plain": [
       "<Figure size 540x360 with 2 Axes>"
      ]
     },
     "metadata": {},
     "output_type": "display_data"
    }
   ],
   "source": [
    "f, ax = plt.subplots()\n",
    "f.set_figwidth(7.5)\n",
    "f.set_figheight(5)\n",
    "sns.heatmap(A_norm, center = 0, ax = ax)"
   ]
  },
  {
   "cell_type": "code",
   "execution_count": 12,
   "metadata": {},
   "outputs": [
    {
     "data": {
      "image/png": "[encoded data removed]",
      "text/plain": [
       "<Figure size 540x360 with 2 Axes>"
      ]
     },
     "metadata": {},
     "output_type": "display_data"
    }
   ],
   "source": [
    "# Simulate linear system\n",
    "num_steps = 10\n",
    "x = np.zeros((num_nodes,num_steps))\n",
    "x[0,0] = 1 # set region 0 to be 'on' at T 0\n",
    "for t in np.arange(1,num_steps): # run simulation of linear system\n",
    "    x[:,t] = np.dot(A_norm,x[:,t-1])\n",
    "\n",
    "f, ax = plt.subplots()\n",
    "f.set_figwidth(7.5)\n",
    "f.set_figheight(5)\n",
    "sns.heatmap(x, ax = ax, cmap = 'YlGnBu_r', cbar_kws={'label': 'Activity'})\n",
    "ax.set_xlabel('T')\n",
    "ax.set_ylabel('Node')\n",
    "f.savefig('full_toy.svg', dpi = 300, bbox_inches = 'tight')"
   ]
  },
  {
   "cell_type": "markdown",
   "metadata": {},
   "source": [
    "### Lesion A matrix and re do simulation"
   ]
  },
  {
   "cell_type": "code",
   "execution_count": 13,
   "metadata": {},
   "outputs": [
    {
     "data": {
      "text/plain": [
       "array([[0.        , 0.        , 0.        , 0.        , 0.        ],\n",
       "       [0.        , 0.        , 0.30909159, 0.41212212, 0.18732823],\n",
       "       [0.        , 0.        , 0.        , 0.21542747, 0.10771374],\n",
       "       [0.        , 0.        , 0.        , 0.        , 0.13112976],\n",
       "       [0.        , 0.        , 0.        , 0.        , 0.        ]])"
      ]
     },
     "execution_count": 13,
     "metadata": {},
     "output_type": "execute_result"
    }
   ],
   "source": [
    "A_norm_tmp = A_norm.copy()\n",
    "\n",
    "A_norm_tmp[0,:] = 0\n",
    "A_norm_tmp[:,0] = 0\n",
    "A_norm_tmp = np.triu(A_norm_tmp)\n",
    "A_norm_tmp"
   ]
  },
  {
   "cell_type": "code",
   "execution_count": 14,
   "metadata": {},
   "outputs": [
    {
     "data": {
      "text/plain": [
       "(array([1, 1, 1, 2, 2, 3]), array([2, 3, 4, 3, 4, 4]))"
      ]
     },
     "execution_count": 14,
     "metadata": {},
     "output_type": "execute_result"
    }
   ],
   "source": [
    "lesion_indices = np.nonzero(A_norm_tmp)\n",
    "lesion_indices"
   ]
  },
  {
   "cell_type": "code",
   "execution_count": 15,
   "metadata": {},
   "outputs": [],
   "source": [
    "ac_lesioned = np.zeros(len(lesion_indices[0]))\n",
    "\n",
    "for i in np.arange(0,len(lesion_indices[0])):\n",
    "    A_lesioned = A_norm.copy()\n",
    "    A_lesioned[lesion_indices[1][i],lesion_indices[0][i]] = 0\n",
    "    A_lesioned[lesion_indices[0][i],lesion_indices[1][i]] = 0\n",
    "    ac_lesioned[i] = ave_control(A_lesioned, c = None)[0]"
   ]
  },
  {
   "cell_type": "code",
   "execution_count": 16,
   "metadata": {},
   "outputs": [
    {
     "data": {
      "text/plain": [
       "array([0.10771374, 0.13112976, 0.18732823, 0.21542747, 0.30909159,\n",
       "       0.41212212])"
      ]
     },
     "execution_count": 16,
     "metadata": {},
     "output_type": "execute_result"
    }
   ],
   "source": [
    "np.sort(A_norm_tmp[lesion_indices])"
   ]
  },
  {
   "cell_type": "code",
   "execution_count": 17,
   "metadata": {},
   "outputs": [
    {
     "data": {
      "text/plain": [
       "array([4, 5, 2, 3, 0, 1])"
      ]
     },
     "execution_count": 17,
     "metadata": {},
     "output_type": "execute_result"
    }
   ],
   "source": [
    "sort_idx = np.argsort(A_norm_tmp[lesion_indices])\n",
    "sort_idx"
   ]
  },
  {
   "cell_type": "code",
   "execution_count": 18,
   "metadata": {},
   "outputs": [
    {
     "name": "stdout",
     "output_type": "stream",
     "text": [
      "[2 3 1 2 1 1]\n",
      "[4 4 4 3 2 3]\n"
     ]
    }
   ],
   "source": [
    "print(lesion_indices[0][sort_idx])\n",
    "print(lesion_indices[1][sort_idx])"
   ]
  },
  {
   "cell_type": "code",
   "execution_count": 19,
   "metadata": {},
   "outputs": [],
   "source": [
    "x_labels = list()\n",
    "\n",
    "for i in np.arange(0,len(sort_idx)):\n",
    "    x_labels.append('(' + str(lesion_indices[0][sort_idx][i]) + ',' + str(lesion_indices[1][sort_idx][i]) + ')')"
   ]
  },
  {
   "cell_type": "code",
   "execution_count": 20,
   "metadata": {},
   "outputs": [
    {
     "data": {
      "text/plain": [
       "['(2,4)', '(3,4)', '(1,4)', '(2,3)', '(1,2)', '(1,3)']"
      ]
     },
     "execution_count": 20,
     "metadata": {},
     "output_type": "execute_result"
    }
   ],
   "source": [
    "x_labels"
   ]
  },
  {
   "cell_type": "code",
   "execution_count": 21,
   "metadata": {},
   "outputs": [
    {
     "data": {
      "image/png": "[encoded data removed]",
      "text/plain": [
       "<Figure size 180x108 with 1 Axes>"
      ]
     },
     "metadata": {},
     "output_type": "display_data"
    }
   ],
   "source": [
    "sns.set(style='white', context = 'paper', font_scale = 1)\n",
    "\n",
    "f, ax = plt.subplots()\n",
    "f.set_figwidth(2.5)\n",
    "f.set_figheight(1.5)\n",
    "\n",
    "ax.bar(x = np.arange(0,len(lesion_indices[0])), height = ac_lesioned[np.argsort(A_norm_tmp[lesion_indices])], color = 'w', edgecolor = 'k', linewidth = 2)\n",
    "ax.set_xlabel('Lesioned Edge')\n",
    "ax.set_ylabel('Average Controllability')\n",
    "ax.set_xticks(np.arange(0,len(lesion_indices[0])))\n",
    "ax.set_xticklabels(x_labels)\n",
    "ax.tick_params(pad = -3)\n",
    "f.savefig('lesioned_ac.svg', dpi = 300, bbox_inches = 'tight')"
   ]
  },
  {
   "cell_type": "code",
   "execution_count": 22,
   "metadata": {},
   "outputs": [
    {
     "data": {
      "text/plain": [
       "1.6613775897295633"
      ]
     },
     "execution_count": 22,
     "metadata": {},
     "output_type": "execute_result"
    }
   ],
   "source": [
    "A_lesioned = A_norm.copy()\n",
    "A_lesioned[2,1] = 0\n",
    "A_lesioned[1,2] = 0\n",
    "A_lesioned[2,3] = 0\n",
    "A_lesioned[3,2] = 0\n",
    "A_lesioned[3,4] = 0\n",
    "A_lesioned[4,3] = 0\n",
    "\n",
    "ave_control(A_lesioned, c = None)[0]"
   ]
  },
  {
   "cell_type": "code",
   "execution_count": 23,
   "metadata": {},
   "outputs": [
    {
     "data": {
      "text/plain": [
       "<matplotlib.axes._subplots.AxesSubplot at 0x120d68350>"
      ]
     },
     "execution_count": 23,
     "metadata": {},
     "output_type": "execute_result"
    },
    {
     "data": {
      "image/png": "[encoded data removed]",
      "text/plain": [
       "<Figure size 540x360 with 2 Axes>"
      ]
     },
     "metadata": {},
     "output_type": "display_data"
    }
   ],
   "source": [
    "f, ax = plt.subplots()\n",
    "f.set_figwidth(7.5)\n",
    "f.set_figheight(5)\n",
    "sns.heatmap(A_lesioned, center = 0, ax = ax)"
   ]
  },
  {
   "cell_type": "code",
   "execution_count": 24,
   "metadata": {},
   "outputs": [
    {
     "data": {
      "image/png": "[encoded data removed]",
      "text/plain": [
       "<Figure size 540x360 with 2 Axes>"
      ]
     },
     "metadata": {},
     "output_type": "display_data"
    }
   ],
   "source": [
    "# Simulate linear system\n",
    "x = np.zeros((num_nodes,num_steps))\n",
    "x[0,0] = 1 # set region 0 to be 'on' at T 0\n",
    "for t in np.arange(1,num_steps): # run simulation of linear system\n",
    "    x[:,t] = np.dot(A_lesioned,x[:,t-1])\n",
    "\n",
    "f, ax = plt.subplots()\n",
    "f.set_figwidth(7.5)\n",
    "f.set_figheight(5)\n",
    "sns.heatmap(x, ax = ax, cmap = 'YlGnBu_r', cbar_kws={'label': 'Activity'})\n",
    "ax.set_xlabel('T')\n",
    "ax.set_ylabel('Node')\n",
    "f.savefig('lesioned_toy.svg', dpi = 300, bbox_inches = 'tight')"
   ]
  },
  {
   "cell_type": "markdown",
   "metadata": {},
   "source": [
    "# Manipulating C"
   ]
  },
  {
   "cell_type": "markdown",
   "metadata": {},
   "source": [
    "The normalization constant (c) determines the value of the largest eigenvalue in the system. By convention we set to 0.99 so that it, and all subsequent modes of the system, decay over time. By decreasing c we force all the system's modes to decay more quickly and thus shorten the life of impulse response. "
   ]
  },
  {
   "cell_type": "code",
   "execution_count": 25,
   "metadata": {},
   "outputs": [],
   "source": [
    "# sns.set(style='white', context = 'talk', font_scale = 0.75)\n",
    "\n",
    "# f, ax = plt.subplots(1,4)\n",
    "# f.set_figwidth(15)\n",
    "# f.set_figheight(2.5)\n",
    "\n",
    "# u, s, vt = svd(A) # SVD\n",
    "\n",
    "# for i, c in enumerate([0.99, 0.75, 0.5, 0.25]): # note, 0.99 is the default param used in all of above\n",
    "#     A_norm = (A/s[0])*c # Matrix normalization\n",
    "\n",
    "#     x = np.zeros((num_nodes,num_steps))\n",
    "#     x[0,0] = 1 # set region 0 to be 'on' at T 0\n",
    "#     for t in np.arange(1,num_steps): # run simulation of linear system\n",
    "#         x[:,t] = np.dot(A_norm,x[:,t-1])\n",
    "\n",
    "#     sns.heatmap(x, ax = ax[i], cmap = 'YlGnBu_r', cbar_kws={'label': 'Activity'})\n",
    "#     ax[i].set_title('c: '+str(c))\n",
    "#     ax[i].set_xlabel('T')\n",
    "#     ax[i].set_ylabel('Node')\n",
    "#     ax[i].set_xticklabels('')\n",
    "\n",
    "# plt.subplots_adjust(wspace=0.5)\n",
    "# f.savefig('full_toy_overc.png', dpi = 300, bbox_inches = 'tight')"
   ]
  },
  {
   "cell_type": "code",
   "execution_count": 26,
   "metadata": {},
   "outputs": [],
   "source": [
    "# sns.set(style='white', context = 'talk', font_scale = 0.75)\n",
    "\n",
    "# f, ax = plt.subplots(1,5)\n",
    "# f.set_figwidth(20)\n",
    "# f.set_figheight(2.5)\n",
    "\n",
    "# u, s, vt = svd(A) # SVD\n",
    "\n",
    "# for i, c in enumerate([1, 10, 100, 1000, 10000]): # note, 0.99 is the default param used in all of above\n",
    "#     A_norm = A/(c + s[0]) # Matrix normalization\n",
    "#     print(ave_control(A, c = c)[0])\n",
    "\n",
    "#     x = np.zeros((num_nodes,num_steps))\n",
    "#     x[0,0] = 1 # set region 0 to be 'on' at T 0\n",
    "#     for t in np.arange(1,num_steps): # run simulation of linear system\n",
    "#         x[:,t] = np.dot(A_norm,x[:,t-1])\n",
    "\n",
    "#     sns.heatmap(x, ax = ax[i], cmap = 'YlGnBu_r', cbar_kws={'label': 'Activity'})\n",
    "#     ax[i].set_title('c: '+str(c))\n",
    "#     ax[i].set_xlabel('T')\n",
    "#     ax[i].set_ylabel('Node')\n",
    "#     ax[i].set_xticklabels('')\n",
    "\n",
    "# plt.subplots_adjust(wspace=0.5)\n",
    "# f.savefig('full_toy_overc.png', dpi = 300, bbox_inches = 'tight')"
   ]
  },
  {
   "cell_type": "code",
   "execution_count": 27,
   "metadata": {},
   "outputs": [
    {
     "data": {
      "image/png": "[encoded data removed]",
      "text/plain": [
       "<Figure size 522x144 with 11 Axes>"
      ]
     },
     "metadata": {},
     "output_type": "display_data"
    }
   ],
   "source": [
    "sns.set(style='white', context = 'paper', font_scale = 0.75)\n",
    "\n",
    "f, ax = plt.subplots(2,5)\n",
    "f.set_figwidth(7.25)\n",
    "f.set_figheight(2)\n",
    "plt.subplots_adjust(wspace = 0.8, hspace = 0.5)\n",
    "\n",
    "u, s, vt = svd(A) # SVD\n",
    "\n",
    "for i, c in enumerate([1, 10, 10**2, 10**3, 10**4]):\n",
    "    A_norm = A/(c + s[0]) # Matrix normalization\n",
    "#     print(ave_control(A, c = c)[0])\n",
    "\n",
    "    x = np.zeros((num_nodes,num_steps))\n",
    "    x[0,0] = 1 # set region 0 to be 'on' at T 0\n",
    "    for t in np.arange(1,num_steps): # run simulation of linear system\n",
    "        x[:,t] = np.dot(A_norm,x[:,t-1])\n",
    "\n",
    "    if i == 0:\n",
    "        pos1 = ax[0,i].get_position() # get the original position \n",
    "        pos2 = [pos1.x0 + 0.1, pos1.y0,  pos1.width / 8, pos1.height] \n",
    "        cbar_ax = f.add_axes(pos2)\n",
    "        \n",
    "        sns.heatmap(x, ax = ax[0,i], cmap = 'YlGnBu_r', cbar_ax = cbar_ax, cbar_kws={'label': 'Activity'})\n",
    "        ax[0,i].set_ylabel('Node')\n",
    "    else:\n",
    "        sns.heatmap(x, ax = ax[0,i], cmap = 'YlGnBu_r',  cbar = False)\n",
    "    \n",
    "    ax[0,i].set_title('c: '+str(c) + '\\n ac: ' + str(np.round(ave_control(A, c = c)[0],2)))\n",
    "    ax[0,i].tick_params(pad = -3)\n",
    "\n",
    "    ax[1,i].plot(x.mean(axis = 0))\n",
    "    ax[1,i].set_ylim([-0.01,0.25])\n",
    "    ax[1,i].set_xlabel('Timepoint')\n",
    "    ax[1,i].set_xticks(np.arange(0, x.shape[1], 2))\n",
    "    ax[1,i].tick_params(pad = -3)\n",
    "    \n",
    "    if i == 0:\n",
    "        ax[1,i].set_ylabel('Activity (average)')\n",
    "    \n",
    "f.savefig('full_toy_overc.svg', dpi = 300, bbox_inches = 'tight')"
   ]
  }
 ],
 "metadata": {
  "kernelspec": {
   "display_name": "Python 3",
   "language": "python",
   "name": "python3"
  },
  "language_info": {
   "codemirror_mode": {
    "name": "ipython",
    "version": 3
   },
   "file_extension": ".py",
   "mimetype": "text/x-python",
   "name": "python",
   "nbconvert_exporter": "python",
   "pygments_lexer": "ipython3",
   "version": "3.7.7"
  }
 },
 "nbformat": 4,
 "nbformat_minor": 4
}
